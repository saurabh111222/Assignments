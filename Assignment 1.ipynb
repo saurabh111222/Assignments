{
 "cells": [
  {
   "cell_type": "code",
   "execution_count": 45,
   "metadata": {},
   "outputs": [
    {
     "data": {
      "text/plain": [
       "[7,\n",
       " 14,\n",
       " 21,\n",
       " 28,\n",
       " 42,\n",
       " 49,\n",
       " 56,\n",
       " 63,\n",
       " 77,\n",
       " 84,\n",
       " 91,\n",
       " 98,\n",
       " 112,\n",
       " 119,\n",
       " 126,\n",
       " 133,\n",
       " 147,\n",
       " 154,\n",
       " 161,\n",
       " 168,\n",
       " 182,\n",
       " 189,\n",
       " 196,\n",
       " 203,\n",
       " 217,\n",
       " 224,\n",
       " 231,\n",
       " 238,\n",
       " 252,\n",
       " 259,\n",
       " 266,\n",
       " 273,\n",
       " 287,\n",
       " 294,\n",
       " 301,\n",
       " 308,\n",
       " 322,\n",
       " 329,\n",
       " 336,\n",
       " 343,\n",
       " 357,\n",
       " 364,\n",
       " 371,\n",
       " 378,\n",
       " 392,\n",
       " 399,\n",
       " 406,\n",
       " 413,\n",
       " 427,\n",
       " 434,\n",
       " 441,\n",
       " 448,\n",
       " 462,\n",
       " 469,\n",
       " 476,\n",
       " 483,\n",
       " 497,\n",
       " 504,\n",
       " 511,\n",
       " 518,\n",
       " 532,\n",
       " 539,\n",
       " 546,\n",
       " 553,\n",
       " 567,\n",
       " 574,\n",
       " 581,\n",
       " 588,\n",
       " 602,\n",
       " 609,\n",
       " 616,\n",
       " 623,\n",
       " 637,\n",
       " 644,\n",
       " 651,\n",
       " 658,\n",
       " 672,\n",
       " 679,\n",
       " 686,\n",
       " 693,\n",
       " 707,\n",
       " 714,\n",
       " 721,\n",
       " 728,\n",
       " 742,\n",
       " 749,\n",
       " 756,\n",
       " 763,\n",
       " 777,\n",
       " 784,\n",
       " 791,\n",
       " 798,\n",
       " 812,\n",
       " 819,\n",
       " 826,\n",
       " 833,\n",
       " 847,\n",
       " 854,\n",
       " 861,\n",
       " 868,\n",
       " 882,\n",
       " 889,\n",
       " 896,\n",
       " 903,\n",
       " 917,\n",
       " 924,\n",
       " 931,\n",
       " 938,\n",
       " 952,\n",
       " 959,\n",
       " 966,\n",
       " 973,\n",
       " 987,\n",
       " 994,\n",
       " 1001,\n",
       " 1008,\n",
       " 1022,\n",
       " 1029,\n",
       " 1036,\n",
       " 1043,\n",
       " 1057,\n",
       " 1064,\n",
       " 1071,\n",
       " 1078,\n",
       " 1092,\n",
       " 1099,\n",
       " 1106,\n",
       " 1113,\n",
       " 1127,\n",
       " 1134,\n",
       " 1141,\n",
       " 1148,\n",
       " 1162,\n",
       " 1169,\n",
       " 1176,\n",
       " 1183,\n",
       " 1197]"
      ]
     },
     "execution_count": 45,
     "metadata": {},
     "output_type": "execute_result"
    }
   ],
   "source": [
    "lst=list(range(2000,3200,1))\n",
    "l=[]\n",
    "for i in range(len(lst)):\n",
    "    if i%7==0 and i%5!=0:\n",
    "        l.append(i)\n",
    "l"
   ]
  },
  {
   "cell_type": "code",
   "execution_count": 46,
   "metadata": {},
   "outputs": [
    {
     "name": "stdout",
     "output_type": "stream",
     "text": [
      "Enter First and Last Name Saurabh Kumar\n"
     ]
    },
    {
     "data": {
      "text/plain": [
       "'ramuK hbaruaS'"
      ]
     },
     "execution_count": 46,
     "metadata": {},
     "output_type": "execute_result"
    }
   ],
   "source": [
    "fn=input(\"Enter First and Last Name \")\n",
    "fn[::-1]"
   ]
  },
  {
   "cell_type": "code",
   "execution_count": 52,
   "metadata": {},
   "outputs": [
    {
     "name": "stdout",
     "output_type": "stream",
     "text": [
      "Enter Dia : 12\n",
      "The Volume of sphare is  904.78\n"
     ]
    }
   ],
   "source": [
    "import math\n",
    "d=input(\"Enter Dia : \")\n",
    "d=int(d)\n",
    "v=round((4/3)*math.pi*(d/2)**3,2)\n",
    "print(\"The Volume of sphare is \", v)"
   ]
  },
  {
   "cell_type": "code",
   "execution_count": null,
   "metadata": {},
   "outputs": [],
   "source": []
  }
 ],
 "metadata": {
  "kernelspec": {
   "display_name": "Python 3",
   "language": "python",
   "name": "python3"
  },
  "language_info": {
   "codemirror_mode": {
    "name": "ipython",
    "version": 3
   },
   "file_extension": ".py",
   "mimetype": "text/x-python",
   "name": "python",
   "nbconvert_exporter": "python",
   "pygments_lexer": "ipython3",
   "version": "3.7.0"
  }
 },
 "nbformat": 4,
 "nbformat_minor": 4
}

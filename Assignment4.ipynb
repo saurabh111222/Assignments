{
 "cells": [
  {
   "cell_type": "markdown",
   "metadata": {},
   "source": [
    "### 1"
   ]
  },
  {
   "cell_type": "code",
   "execution_count": 1,
   "metadata": {},
   "outputs": [],
   "source": [
    "#area = (s*(s-a)*(s-b)*(s-c)) ** 0.5"
   ]
  },
  {
   "cell_type": "code",
   "execution_count": 2,
   "metadata": {},
   "outputs": [],
   "source": [
    "class area:\n",
    "    def __init__(self):\n",
    "        self.a=int(input(\"Enter the value of a: \"))\n",
    "        self.b=int(input(\"Enter the value of b: \"))\n",
    "        self.c=int(input(\"Enter the value of c: \"))\n",
    "    def calarea(self):\n",
    "        s=(self.a+self.b+self.c)/2\n",
    "        final_area=(s*(s-self.a)*(s-self.b)*(s-self.c))\n",
    "        return final_area"
   ]
  },
  {
   "cell_type": "code",
   "execution_count": 3,
   "metadata": {},
   "outputs": [
    {
     "name": "stdout",
     "output_type": "stream",
     "text": [
      "Enter the value of a: 8\n",
      "Enter the value of b: 9\n",
      "Enter the value of c: 111\n"
     ]
    },
    {
     "data": {
      "text/plain": [
       "-9264640.0"
      ]
     },
     "execution_count": 3,
     "metadata": {},
     "output_type": "execute_result"
    }
   ],
   "source": [
    "area_obj=area()\n",
    "area_obj.calarea()"
   ]
  },
  {
   "cell_type": "markdown",
   "metadata": {},
   "source": [
    "### 2"
   ]
  },
  {
   "cell_type": "code",
   "execution_count": 4,
   "metadata": {},
   "outputs": [],
   "source": [
    "new_list=[]\n",
    "def filter_long_words(arr, num):\n",
    "    for i in arr:\n",
    "        if len(i)>num:\n",
    "            new_list.append(i)\n",
    "    return new_list\n",
    "\n"
   ]
  },
  {
   "cell_type": "code",
   "execution_count": 5,
   "metadata": {},
   "outputs": [
    {
     "name": "stdout",
     "output_type": "stream",
     "text": [
      "Enter value of numbers of strings in the list: 5\n",
      "asfassfn\n",
      "agsbxzcvx\n",
      "gjdzdfeehtd\n",
      "sagxfvxfhr\n",
      "saxvadfnag\n",
      "Enter the value of n9\n"
     ]
    },
    {
     "data": {
      "text/plain": [
       "['gjdzdfeehtd', 'sagxfvxfhr', 'saxvadfnag']"
      ]
     },
     "execution_count": 5,
     "metadata": {},
     "output_type": "execute_result"
    }
   ],
   "source": [
    "arr=[]\n",
    "n=int(input(\"Enter value of numbers of strings in the list: \"))\n",
    "for i in range(n):\n",
    "    a=(input())\n",
    "    arr.append(a)\n",
    "num=int(input('Enter the value of n'))\n",
    "filter_long_words(arr, num)"
   ]
  },
  {
   "cell_type": "markdown",
   "metadata": {},
   "source": [
    "### 3"
   ]
  },
  {
   "cell_type": "code",
   "execution_count": 6,
   "metadata": {},
   "outputs": [
    {
     "name": "stdout",
     "output_type": "stream",
     "text": [
      "Enter value of n: 6\n",
      "afavd\n",
      "rsgs\n",
      "et\n",
      "erhfkur\n",
      "asfnsfeswe\n",
      "ewqgsvgfjn\n"
     ]
    },
    {
     "data": {
      "text/plain": [
       "[5, 4, 2, 7, 10, 10]"
      ]
     },
     "execution_count": 6,
     "metadata": {},
     "output_type": "execute_result"
    }
   ],
   "source": [
    "int_arr=[]\n",
    "def charToLen(arr):\n",
    "    for i in arr:\n",
    "        int_arr.append(len(i))\n",
    "    return int_arr\n",
    "\n",
    "\n",
    "new_arr=[]\n",
    "n=int(input(\"Enter value of n: \"))\n",
    "for i in range(n):\n",
    "    a=(input())\n",
    "    new_arr.append(a)\n",
    "charToLen(new_arr)"
   ]
  },
  {
   "cell_type": "markdown",
   "metadata": {},
   "source": [
    "### 4"
   ]
  },
  {
   "cell_type": "code",
   "execution_count": 7,
   "metadata": {},
   "outputs": [
    {
     "data": {
      "text/plain": [
       "True"
      ]
     },
     "execution_count": 7,
     "metadata": {},
     "output_type": "execute_result"
    }
   ],
   "source": [
    "def checkForVowel(c):\n",
    "    if c == 'a' or c=='i' or c=='o' or c=='u' or c == 'A' or c=='I' or c=='O' or c=='U':\n",
    "        return True\n",
    "    else:\n",
    "        return False\n",
    "checkForVowel('a')"
   ]
  },
  {
   "cell_type": "code",
   "execution_count": null,
   "metadata": {},
   "outputs": [],
   "source": []
  }
 ],
 "metadata": {
  "kernelspec": {
   "display_name": "Python 3",
   "language": "python",
   "name": "python3"
  },
  "language_info": {
   "codemirror_mode": {
    "name": "ipython",
    "version": 3
   },
   "file_extension": ".py",
   "mimetype": "text/x-python",
   "name": "python",
   "nbconvert_exporter": "python",
   "pygments_lexer": "ipython3",
   "version": "3.7.0"
  }
 },
 "nbformat": 4,
 "nbformat_minor": 4
}
